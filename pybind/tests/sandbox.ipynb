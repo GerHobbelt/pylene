{
 "cells": [
  {
   "cell_type": "code",
   "execution_count": 49,
   "metadata": {},
   "outputs": [],
   "source": [
    "import numpy as np\n",
    "import seaborn as sns\n",
    "import matplotlib.pyplot as plt\n",
    "import pandas as pd\n",
    "import json, re"
   ]
  },
  {
   "cell_type": "code",
   "execution_count": 50,
   "metadata": {},
   "outputs": [],
   "source": [
    "sns.set()\n",
    "sns.set_style(\"whitegrid\")\n",
    "sns.set_context(\"paper\")"
   ]
  },
  {
   "cell_type": "code",
   "execution_count": 51,
   "metadata": {},
   "outputs": [],
   "source": [
    "bench_result = json.load(open(\"../../build/bench/BMPlnVsOpenCV_Dilation_result.json\"))"
   ]
  },
  {
   "cell_type": "code",
   "execution_count": 52,
   "metadata": {},
   "outputs": [],
   "source": [
    "benchmarks = {'Pln_DiscDecompPeriodic': [], 'Pln_RectDecomp': [], 'CV_Disc': [], 'CV_Rect': []}\n",
    "size_se_p = re.compile(\".*/([0-9]+)\")\n",
    "indexes = []\n",
    "for bench in bench_result['benchmarks']:\n",
    "    for k in benchmarks.keys():\n",
    "        if k in bench['name']:\n",
    "            size_se = size_se_p.search(bench['name'])\n",
    "            assert(size_se is not None)\n",
    "            benchmarks[k].append({\n",
    "                'size_se': int(size_se.group(1)),\n",
    "                'iterations': bench['iterations'],\n",
    "                'time': bench['real_time'],\n",
    "                'unit': bench['time_unit'],\n",
    "                'throughput_bps': bench['bytes_per_second']\n",
    "            })\n",
    "\n",
    "data = {'Pln_DiscDecompPeriodic': [], 'Pln_RectDecomp': [], 'CV_Disc': [], 'CV_Rect': []}\n",
    "indexes = []\n",
    "\n",
    "for k in benchmarks.keys():\n",
    "    for ret in benchmarks[k]:\n",
    "        data[k].append(ret['time'])\n",
    "\n",
    "_k = list(benchmarks.keys())[0]\n",
    "for ret in benchmarks[_k]:\n",
    "    indexes.append(ret['size_se'])"
   ]
  },
  {
   "cell_type": "code",
   "execution_count": 53,
   "metadata": {},
   "outputs": [
    {
     "data": {
      "text/plain": [
       "{'Pln_DiscDecompPeriodic': [77737730.4999618,\n",
       "  71815106.66664003,\n",
       "  250281691.6667143,\n",
       "  414241685.4999738,\n",
       "  360622694.49985254,\n",
       "  523394937.99991035,\n",
       "  540620693.0001645,\n",
       "  525841863.0000961,\n",
       "  616841439.9999164],\n",
       " 'Pln_RectDecomp': [85737104.50002636,\n",
       "  79433242.4444393,\n",
       "  72119219.66664806,\n",
       "  73978443.69997983,\n",
       "  68747291.20004304,\n",
       "  66918769.29999125,\n",
       "  67850718.59999335,\n",
       "  71782837.19999853,\n",
       "  74690375.55554476],\n",
       " 'CV_Disc': [3866152.7604162414,\n",
       "  7555414.2530158255,\n",
       "  19377360.25000605,\n",
       "  67181520.90909578,\n",
       "  249150137.6666747,\n",
       "  1036722522.999753,\n",
       "  3978791391.999948,\n",
       "  16223484703.99993,\n",
       "  63281862451.00005],\n",
       " 'CV_Rect': [4028691.8802402383,\n",
       "  5028167.880000183,\n",
       "  5751235.273584895,\n",
       "  8348529.573173969,\n",
       "  13481794.480771195,\n",
       "  26266491.000013854,\n",
       "  55820127.66668261,\n",
       "  110822095.9999926,\n",
       "  223392546.6666733]}"
      ]
     },
     "execution_count": 53,
     "metadata": {},
     "output_type": "execute_result"
    }
   ],
   "source": [
    "data"
   ]
  },
  {
   "cell_type": "code",
   "execution_count": 54,
   "metadata": {},
   "outputs": [
    {
     "data": {
      "text/plain": [
       "[1, 2, 4, 8, 16, 32, 64, 128, 256]"
      ]
     },
     "execution_count": 54,
     "metadata": {},
     "output_type": "execute_result"
    }
   ],
   "source": [
    "indexes"
   ]
  },
  {
   "cell_type": "code",
   "execution_count": 55,
   "metadata": {},
   "outputs": [],
   "source": [
    "df = pd.DataFrame(data=data, index=indexes, columns=['Pln_DiscDecompPeriodic', 'Pln_RectDecomp', 'CV_Disc', 'CV_Rect'])"
   ]
  },
  {
   "cell_type": "code",
   "execution_count": 56,
   "metadata": {
    "scrolled": true
   },
   "outputs": [
    {
     "data": {
      "text/html": [
       "<div>\n",
       "<style scoped>\n",
       "    .dataframe tbody tr th:only-of-type {\n",
       "        vertical-align: middle;\n",
       "    }\n",
       "\n",
       "    .dataframe tbody tr th {\n",
       "        vertical-align: top;\n",
       "    }\n",
       "\n",
       "    .dataframe thead th {\n",
       "        text-align: right;\n",
       "    }\n",
       "</style>\n",
       "<table border=\"1\" class=\"dataframe\">\n",
       "  <thead>\n",
       "    <tr style=\"text-align: right;\">\n",
       "      <th></th>\n",
       "      <th>Pln_DiscDecompPeriodic</th>\n",
       "      <th>Pln_RectDecomp</th>\n",
       "      <th>CV_Disc</th>\n",
       "      <th>CV_Rect</th>\n",
       "    </tr>\n",
       "  </thead>\n",
       "  <tbody>\n",
       "    <tr>\n",
       "      <th>1</th>\n",
       "      <td>7.773773e+07</td>\n",
       "      <td>8.573710e+07</td>\n",
       "      <td>3.866153e+06</td>\n",
       "      <td>4.028692e+06</td>\n",
       "    </tr>\n",
       "    <tr>\n",
       "      <th>2</th>\n",
       "      <td>7.181511e+07</td>\n",
       "      <td>7.943324e+07</td>\n",
       "      <td>7.555414e+06</td>\n",
       "      <td>5.028168e+06</td>\n",
       "    </tr>\n",
       "    <tr>\n",
       "      <th>4</th>\n",
       "      <td>2.502817e+08</td>\n",
       "      <td>7.211922e+07</td>\n",
       "      <td>1.937736e+07</td>\n",
       "      <td>5.751235e+06</td>\n",
       "    </tr>\n",
       "    <tr>\n",
       "      <th>8</th>\n",
       "      <td>4.142417e+08</td>\n",
       "      <td>7.397844e+07</td>\n",
       "      <td>6.718152e+07</td>\n",
       "      <td>8.348530e+06</td>\n",
       "    </tr>\n",
       "    <tr>\n",
       "      <th>16</th>\n",
       "      <td>3.606227e+08</td>\n",
       "      <td>6.874729e+07</td>\n",
       "      <td>2.491501e+08</td>\n",
       "      <td>1.348179e+07</td>\n",
       "    </tr>\n",
       "    <tr>\n",
       "      <th>32</th>\n",
       "      <td>5.233949e+08</td>\n",
       "      <td>6.691877e+07</td>\n",
       "      <td>1.036723e+09</td>\n",
       "      <td>2.626649e+07</td>\n",
       "    </tr>\n",
       "    <tr>\n",
       "      <th>64</th>\n",
       "      <td>5.406207e+08</td>\n",
       "      <td>6.785072e+07</td>\n",
       "      <td>3.978791e+09</td>\n",
       "      <td>5.582013e+07</td>\n",
       "    </tr>\n",
       "    <tr>\n",
       "      <th>128</th>\n",
       "      <td>5.258419e+08</td>\n",
       "      <td>7.178284e+07</td>\n",
       "      <td>1.622348e+10</td>\n",
       "      <td>1.108221e+08</td>\n",
       "    </tr>\n",
       "    <tr>\n",
       "      <th>256</th>\n",
       "      <td>6.168414e+08</td>\n",
       "      <td>7.469038e+07</td>\n",
       "      <td>6.328186e+10</td>\n",
       "      <td>2.233925e+08</td>\n",
       "    </tr>\n",
       "  </tbody>\n",
       "</table>\n",
       "</div>"
      ],
      "text/plain": [
       "     Pln_DiscDecompPeriodic  Pln_RectDecomp       CV_Disc       CV_Rect\n",
       "1              7.773773e+07    8.573710e+07  3.866153e+06  4.028692e+06\n",
       "2              7.181511e+07    7.943324e+07  7.555414e+06  5.028168e+06\n",
       "4              2.502817e+08    7.211922e+07  1.937736e+07  5.751235e+06\n",
       "8              4.142417e+08    7.397844e+07  6.718152e+07  8.348530e+06\n",
       "16             3.606227e+08    6.874729e+07  2.491501e+08  1.348179e+07\n",
       "32             5.233949e+08    6.691877e+07  1.036723e+09  2.626649e+07\n",
       "64             5.406207e+08    6.785072e+07  3.978791e+09  5.582013e+07\n",
       "128            5.258419e+08    7.178284e+07  1.622348e+10  1.108221e+08\n",
       "256            6.168414e+08    7.469038e+07  6.328186e+10  2.233925e+08"
      ]
     },
     "execution_count": 56,
     "metadata": {},
     "output_type": "execute_result"
    }
   ],
   "source": [
    "df"
   ]
  },
  {
   "cell_type": "code",
   "execution_count": 64,
   "metadata": {},
   "outputs": [
    {
     "data": {
      "text/plain": [
       "[None, Text(0, 0.5, 'Time (ns)'), Text(0.5, 0, 'SE size')]"
      ]
     },
     "execution_count": 64,
     "metadata": {},
     "output_type": "execute_result"
    },
    {
     "data": {
      "image/png": "[encoded data removed]",
      "text/plain": [
       "<Figure size 432x288 with 1 Axes>"
      ]
     },
     "metadata": {},
     "output_type": "display_data"
    }
   ],
   "source": [
    "grid = sns.lineplot(data=df, legend=\"full\")\n",
    "grid.set(yscale=\"log\", xlabel=\"SE size\", ylabel=\"Time (ns)\")"
   ]
  },
  {
   "cell_type": "code",
   "execution_count": 68,
   "metadata": {},
   "outputs": [],
   "source": [
    "grid.get_figure().savefig(\"PlnVsOpenCV.png\")"
   ]
  },
  {
   "cell_type": "code",
   "execution_count": null,
   "metadata": {},
   "outputs": [],
   "source": []
  },
  {
   "cell_type": "code",
   "execution_count": null,
   "metadata": {},
   "outputs": [],
   "source": []
  },
  {
   "cell_type": "code",
   "execution_count": null,
   "metadata": {},
   "outputs": [],
   "source": []
  },
  {
   "cell_type": "code",
   "execution_count": null,
   "metadata": {},
   "outputs": [],
   "source": []
  },
  {
   "cell_type": "code",
   "execution_count": null,
   "metadata": {},
   "outputs": [],
   "source": []
  },
  {
   "cell_type": "code",
   "execution_count": null,
   "metadata": {},
   "outputs": [],
   "source": []
  },
  {
   "cell_type": "code",
   "execution_count": null,
   "metadata": {},
   "outputs": [],
   "source": []
  },
  {
   "cell_type": "code",
   "execution_count": null,
   "metadata": {},
   "outputs": [],
   "source": []
  },
  {
   "cell_type": "code",
   "execution_count": null,
   "metadata": {},
   "outputs": [],
   "source": []
  },
  {
   "cell_type": "code",
   "execution_count": null,
   "metadata": {},
   "outputs": [],
   "source": []
  },
  {
   "cell_type": "code",
   "execution_count": null,
   "metadata": {},
   "outputs": [],
   "source": []
  },
  {
   "cell_type": "code",
   "execution_count": null,
   "metadata": {},
   "outputs": [],
   "source": []
  },
  {
   "cell_type": "code",
   "execution_count": null,
   "metadata": {},
   "outputs": [],
   "source": []
  },
  {
   "cell_type": "code",
   "execution_count": null,
   "metadata": {},
   "outputs": [],
   "source": []
  },
  {
   "cell_type": "code",
   "execution_count": null,
   "metadata": {},
   "outputs": [],
   "source": []
  }
 ],
 "metadata": {
  "kernelspec": {
   "display_name": "Python 3",
   "language": "python",
   "name": "python3"
  },
  "language_info": {
   "codemirror_mode": {
    "name": "ipython",
    "version": 3
   },
   "file_extension": ".py",
   "mimetype": "text/x-python",
   "name": "python",
   "nbconvert_exporter": "python",
   "pygments_lexer": "ipython3",
   "version": "3.8.3rc1"
  }
 },
 "nbformat": 4,
 "nbformat_minor": 4
}
